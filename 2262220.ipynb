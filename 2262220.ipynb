{
 "cells": [
  {
   "cell_type": "markdown",
   "metadata": {
    "collapsed": false
   },
   "source": [
    "一个简单的根据0基础入门的示例中的识别手写数字改写而成的黄斑定位程序。\n",
    "\n",
    "**由于丢失了成绩为0.00923的checkpoint，我尽可能还原了之前的一些内容，当前代码成绩为0.0084，因为每次运行结果都有随机性，所以不保证可以得到相同结果，可以尝试多次运行来刷评分**\n",
    "\n",
    "思路：虽然图片的大小不一，但是可以将看作中心点在xy轴的百分比位置，如目标点在最中间则认为横纵分别为0.5。最后再将小数还原为整数即可得到真实图片上的像素点坐标。\n",
    "\n",
    "本程序没有实现异步读取，直接做了最基础的读数据，运行。最后会在./work/Fovea_Localization_Results.csv中保存测试结果。"
   ]
  },
  {
   "cell_type": "markdown",
   "metadata": {
    "collapsed": false
   },
   "source": [
    "**首先是获取数据**"
   ]
  },
  {
   "cell_type": "code",
   "execution_count": null,
   "metadata": {
    "collapsed": false
   },
   "outputs": [
    {
     "name": "stdout",
     "output_type": "stream",
     "text": [
      "Already Downloading\n"
     ]
    }
   ],
   "source": [
    "# 下载数据\r\n",
    "import urllib \r\n",
    "import requests   \r\n",
    "import os\r\n",
    "url = 'https://bj.bcebos.com/v1/dataset-bj/%E5%8C%BB%E7%96%97%E6%AF%94%E8%B5%9B/%E5%B8%B8%E8%A7%84%E8%B5%9B%EF%BC%9APALM%E7%9C%BC%E5%BA%95%E5%BD%A9%E7%85%A7%E4%B8%AD%E9%BB%84%E6%96%91%E4%B8%AD%E5%A4%AE%E5%87%B9%E5%AE%9A%E4%BD%8D.zip'  \r\n",
    "\r\n",
    "if not os.path.exists('./work/Train_and_test.zip'):\r\n",
    "    print(\"Downloading start!\")\r\n",
    "    urllib.request.urlretrieve(url, \"./work/Train_and_test.zip\")  \r\n",
    "    print(\"Downloading end!\")\r\n",
    "else:\r\n",
    "    print(\"Already Downloading\")"
   ]
  },
  {
   "cell_type": "code",
   "execution_count": null,
   "metadata": {
    "collapsed": false
   },
   "outputs": [
    {
     "name": "stdout",
     "output_type": "stream",
     "text": [
      "Archive:  ./work/Train_and_test.zip\n",
      "replace ./work/常规赛：PALM眼底彩照中黄斑中央凹定位/License-PALM_0425.pdf? [y]es, [n]o, [A]ll, [N]one, [r]ename: ^C\n"
     ]
    }
   ],
   "source": [
    "# 解压数据\r\n",
    "! unzip ./work/Train_and_test.zip -d ./work"
   ]
  },
  {
   "cell_type": "markdown",
   "metadata": {
    "collapsed": false
   },
   "source": [
    "**定义需要用到的函数和类**<br />\n",
    "\n",
    "包括:<br />\n",
    "get_train_image\t\t读取训练图片，缩放图片到指定大小<br />\n",
    "get_test_image\t\t读取测试图片，缩放图片到指定大小<br />\n",
    "Mymodel\t\t\t\t定义CNN网络<br />\n",
    "train\t\t\t\t对网络进行训练<br />\n",
    "test\t\t\t\t对网络进行测试并且写入.csv<br />"
   ]
  },
  {
   "cell_type": "code",
   "execution_count": 6,
   "metadata": {
    "collapsed": false
   },
   "outputs": [],
   "source": [
    "import paddle\r\n",
    "import paddle.nn.functional as F\r\n",
    "import os\r\n",
    "import numpy as np\r\n",
    "from paddle.nn import Conv2D, MaxPool2D, Linear\r\n",
    "import pandas as pd\r\n",
    "from PIL import Image\r\n",
    "\r\n",
    "def get_train_image(image_size):\r\n",
    "    pd.set_option('mode.chained_assignment', None)\r\n",
    "    # 读xlsx\r\n",
    "    df = pd.read_excel('./work/常规赛：PALM眼底彩照中黄斑中央凹定位/Train/Fovea_Location_train.xlsx')\r\n",
    "    # 定义变量用于保存图片的原始大小和修改后的中心点坐标\r\n",
    "    df['ori_width'] = 0\r\n",
    "    df['ori_height'] = 0\r\n",
    "    df['changed_x'] = 0.0\r\n",
    "    df['changed_y'] = 0.0\r\n",
    "    im_list = []\r\n",
    "    for i in range(len(df)):  # df[df.columns[0]]:\r\n",
    "        if i % 50 == 0:\r\n",
    "            print(str(i / len(df) * 100) + '% finished')\r\n",
    "        im = Image.open('./work/常规赛：PALM眼底彩照中黄斑中央凹定位/Train/fundus_image/' + df[df.columns[0]][i])\r\n",
    "        df['ori_width'][i] = np.array(im).shape[1]  # 列对应横向宽度，行对应纵向宽度\r\n",
    "        df['ori_height'][i] = np.array(im).shape[0]\r\n",
    "        df['changed_x'][i] = df['Fovea_X'][i]/np.array(im).shape[1]\r\n",
    "        df['changed_y'][i] = df['Fovea_Y'][i]/np.array(im).shape[0]\r\n",
    "        #转化为灰度图并缩小，保存在列表中\r\n",
    "        im = im.convert('L')\r\n",
    "        im = im.resize((image_size, image_size), Image.ANTIALIAS)\r\n",
    "        im = np.array(im).reshape(1, -1).astype(np.float32)\r\n",
    "        im_list.append(im.tolist()[0])\r\n",
    "    print(str(1 * 100) + '% finished')\r\n",
    "    im_record = np.array(im_list)\r\n",
    "    df2 = pd.DataFrame(im_record)\r\n",
    "    pd.set_option('mode.chained_assignment', \"raise\")\r\n",
    "    # return train_infor, train_input\r\n",
    "    # 返回图片的标签信息和图片向量\r\n",
    "    return df, df2\r\n",
    "\r\n",
    "def get_test_image(image_size):\r\n",
    "    # read the test_infor\r\n",
    "    mylist=[]\r\n",
    "    im_list = []\r\n",
    "    for i in range(400):\r\n",
    "        if i % 50 == 0:\r\n",
    "            print(str(i / 400 * 100) + '% finished')\r\n",
    "        target_pic_name='T' + ('%04d' % (i+1)) + '.jpg'\r\n",
    "        # 无法直接从csv中读取，所以手动生成向量\r\n",
    "        tmplist=[target_pic_name,0.0,0.0,0,0,0.0,0.0]\r\n",
    "        im = Image.open('./work/常规赛：PALM眼底彩照中黄斑中央凹定位/PALM-Testing400-Images/' + target_pic_name)\r\n",
    "        tmplist[3] = np.array(im).shape[1]  # 列对应横向宽度，行对应纵向宽度\r\n",
    "        tmplist[4] = np.array(im).shape[0]\r\n",
    "        im = im.convert('L')\r\n",
    "        im = im.resize((image_size, image_size), Image.ANTIALIAS)\r\n",
    "        im = np.array(im).reshape(1, -1).astype(np.float32)\r\n",
    "        im_list.append(im.tolist()[0])\r\n",
    "\r\n",
    "        mylist.append(tmplist)\r\n",
    "    print(str(1 * 100) + '% finished')\r\n",
    "    test_df = pd.DataFrame.from_records(mylist, columns=['FileName', 'Fovea_X', 'Fovea_Y', 'ori_width', 'ori_height', 'changed_x', 'changed_y'])\r\n",
    "    im_record = np.array(im_list)\r\n",
    "    df_test_input = pd.DataFrame(im_record)\r\n",
    "    pd.set_option('mode.chained_assignment', \"raise\")\r\n",
    "    # return test_infor, test_input\r\n",
    "    return test_df, df_test_input\r\n",
    "\r\n",
    "#定义模型，本模型参考了https://www.paddlepaddle.org.cn/tutorials/projectdetail/2182025\r\n",
    "class Mymodel(paddle.nn.Layer):\r\n",
    "    def __init__(self):\r\n",
    "        super(Mymodel, self).__init__()\r\n",
    "        global image_size\r\n",
    "        # 定义卷积层，输出特征通道out_channels设置为20，卷积核的大小kernel_size为5，卷积步长stride=1，padding=2\r\n",
    "        self.conv1 = Conv2D(in_channels=1, out_channels=20, kernel_size=5, stride=1, padding=2)\r\n",
    "        # 定义池化层，池化核的大小kernel_size为2，池化步长为2\r\n",
    "        self.max_pool1 = MaxPool2D(kernel_size=2, stride=2)\r\n",
    "        # 定义卷积层，输出特征通道out_channels设置为20，卷积核的大小kernel_size为5，卷积步长stride=1，padding=2\r\n",
    "        self.conv2 = Conv2D(in_channels=20, out_channels=20, kernel_size=5, stride=1, padding=2)\r\n",
    "        # 定义池化层，池化核的大小kernel_size为2，池化步长为2\r\n",
    "        self.max_pool2 = MaxPool2D(kernel_size=2, stride=2)\r\n",
    "        # 定义全连接层，输出维度是2\r\n",
    "        # 计算维度\r\n",
    "        tmp=np.zeros([image_size,image_size], dtype='float32', order='C')\r\n",
    "        tmp = np.array(tmp).reshape(1, 1, image_size, image_size).astype(np.float32)\r\n",
    "        tmp=paddle.to_tensor(tmp)\r\n",
    "        tmp1 = self.conv1(tmp)\r\n",
    "        tmp2 = self.max_pool1(tmp1)\r\n",
    "        tmp3 = self.conv2(tmp2)\r\n",
    "        tmp4 = self.max_pool2(tmp3)\r\n",
    "        liner_input_num=1\r\n",
    "        for i in range(len(tmp4.shape)):\r\n",
    "            liner_input_num*=tmp4.shape[i]\r\n",
    "        self.fc = Linear(in_features=liner_input_num, out_features=5000)\r\n",
    "        self.fc2 = Linear(in_features=5000, out_features=1000)\r\n",
    "        self.fc3 = Linear(in_features=1000, out_features=2)\r\n",
    "\r\n",
    "    # 定义网络前向计算过程，卷积后紧接着使用池化层，最后使用全连接层计算最终输出\r\n",
    "    def forward(self, inputs):\r\n",
    "         x = self.conv1(inputs)\r\n",
    "         x = F.relu(x)\r\n",
    "         x = self.max_pool1(x)\r\n",
    "         x = self.conv2(x)\r\n",
    "         x = F.relu(x)\r\n",
    "         x = self.max_pool2(x)\r\n",
    "         x = paddle.reshape(x, [x.shape[0], -1])\r\n",
    "         x = self.fc(x)\r\n",
    "         x = F.relu6(x)\r\n",
    "         x =self.fc2(x)\r\n",
    "         x = F.tanh(x)\r\n",
    "         x =self.fc3(x)\r\n",
    "         return x\r\n",
    "\r\n",
    "# 定义训练\r\n",
    "def train(model, train_infor, train_input, image_size,m_ite):\r\n",
    "    # 将数据转化为四维矩阵格式，并归一到0-1\r\n",
    "    train_im = paddle.to_tensor(train_input.values.astype('float32')/255)\r\n",
    "    train_im = paddle.reshape(train_im,[train_im.shape[0], 1, image_size, image_size])\r\n",
    "    train_lab = train_infor[['changed_x','changed_y']]\r\n",
    "    train_lab = paddle.to_tensor(train_lab.values.astype('float32'))\r\n",
    "\r\n",
    "    # 定义学习器\r\n",
    "    opt = paddle.optimizer.Adam(learning_rate=0.001, weight_decay=paddle.regularizer.L2Decay(coeff=1e-5),\r\n",
    "                                parameters=model.parameters())\r\n",
    "\r\n",
    "    print('init train!')\r\n",
    "    \r\n",
    "    # 训练\r\n",
    "    for i in range(m_ite):\r\n",
    "        print(i)\r\n",
    "        predicts = model(train_im)\r\n",
    "        loss = F.square_error_cost(predicts, train_lab)\r\n",
    "        avg_loss = paddle.mean(loss)\r\n",
    "\r\n",
    "        avg_loss.backward()\r\n",
    "        opt.step()\r\n",
    "        opt.clear_grad()\r\n",
    "        print(\"now los is {}\".format(avg_loss.numpy()))\r\n",
    "\r\n",
    "#定义测试\r\n",
    "def test(model, test_infor, test_input ,image_size):\r\n",
    "    print('test_start')\r\n",
    "    # param_dict = paddle.load('./PALM')\r\n",
    "    # model.load_dict(param_dict)\r\n",
    "    \r\n",
    "    model.eval()\r\n",
    "    test_im = paddle.to_tensor(test_input.values.astype('float32')/255)\r\n",
    "    test_im = paddle.reshape(test_im,[test_im.shape[0], 1, image_size, image_size])\r\n",
    "    predicts = model(test_im)\r\n",
    "    predicts = predicts.numpy()\r\n",
    "\r\n",
    "    pd.set_option('mode.chained_assignment', None)\r\n",
    "\r\n",
    "    #将预测的点还原为图片上的坐标\r\n",
    "    for i in range(400):\r\n",
    "        test_infor['changed_x'][i]=predicts[i][0]\r\n",
    "        test_infor['changed_y'][i]=predicts[i][1]\r\n",
    "        test_infor['Fovea_X'][i] = predicts[i][0]*test_infor['ori_width'][i]\r\n",
    "        test_infor['Fovea_Y'][i] = predicts[i][1]*test_infor['ori_height'][i]\r\n",
    "    pd.set_option('mode.chained_assignment', 'raise')\r\n",
    "    \r\n",
    "    #写文件\r\n",
    "    final_df=test_infor[['FileName','Fovea_X','Fovea_Y']]\r\n",
    "    final_df.to_csv('./work/Fovea_Localization_Results.csv', index=None)"
   ]
  },
  {
   "cell_type": "markdown",
   "metadata": {
    "collapsed": false
   },
   "source": [
    "**正式进行训练和测试**"
   ]
  },
  {
   "cell_type": "code",
   "execution_count": 7,
   "metadata": {
    "collapsed": false
   },
   "outputs": [],
   "source": [
    "# 定义缩放的大小，训练迭代次数，模型保存目录\r\n",
    "global image_size\r\n",
    "image_size = 96\r\n",
    "m_ite=500\r\n",
    "model_save_dir='./work/mymodel'\r\n",
    "last_model_dir='./work/mymodel'"
   ]
  },
  {
   "cell_type": "code",
   "execution_count": 12,
   "metadata": {
    "collapsed": false
   },
   "outputs": [
    {
     "name": "stdout",
     "output_type": "stream",
     "text": [
      "get_train_image!\n",
      "0.0% finished\n",
      "6.25% finished\n",
      "12.5% finished\n",
      "18.75% finished\n",
      "25.0% finished\n",
      "31.25% finished\n",
      "37.5% finished\n",
      "43.75% finished\n",
      "50.0% finished\n",
      "56.25% finished\n",
      "62.5% finished\n",
      "68.75% finished\n",
      "75.0% finished\n",
      "81.25% finished\n",
      "87.5% finished\n",
      "93.75% finished\n",
      "100% finished\n",
      "train infor gotten!\n"
     ]
    }
   ],
   "source": [
    "#获得训练数据\r\n",
    "print(\"get_train_image!\")\r\n",
    "train_infor, train_input=get_train_image(image_size)\r\n",
    "print(\"train infor gotten!\")"
   ]
  },
  {
   "cell_type": "code",
   "execution_count": 13,
   "metadata": {
    "collapsed": false
   },
   "outputs": [
    {
     "name": "stdout",
     "output_type": "stream",
     "text": [
      "model saved\r"
     ]
    }
   ],
   "source": [
    "#构造模型开始训练\r\n",
    "model = Mymodel()\r\n",
    "print(\"model created\")\r\n",
    "train(model,train_infor, train_input, image_size, m_ite)\r\n",
    "print(\"train finish\")\r\n",
    "paddle.save(model.state_dict(), model_save_dir)\r\n",
    "print(\"model saved\")"
   ]
  },
  {
   "cell_type": "code",
   "execution_count": 14,
   "metadata": {
    "collapsed": false
   },
   "outputs": [
    {
     "name": "stdout",
     "output_type": "stream",
     "text": [
      "model created\n",
      "get_test_image!\n",
      "0.0% finished\n",
      "12.5% finished\n",
      "25.0% finished\n",
      "37.5% finished\n",
      "50.0% finished\n",
      "62.5% finished\n",
      "75.0% finished\n",
      "87.5% finished\n",
      "100% finished\n",
      "test infor gotten!\n",
      "test_start\n"
     ]
    }
   ],
   "source": [
    "#开始测试\r\n",
    "model = Mymodel()\r\n",
    "print(\"model created\")\r\n",
    "param_dict = paddle.load(last_model_dir)\r\n",
    "model.load_dict(param_dict)\r\n",
    "print(\"get_test_image!\")\r\n",
    "test_infor, test_input=get_test_image(image_size)\r\n",
    "print(\"test infor gotten!\")\r\n",
    "test(model, test_infor, test_input ,image_size)"
   ]
  },
  {
   "cell_type": "markdown",
   "metadata": {
    "collapsed": false
   },
   "source": [
    "请点击[此处](https://ai.baidu.com/docs#/AIStudio_Project_Notebook/a38e5576)查看本环境基本用法.  <br>\n",
    "Please click [here ](https://ai.baidu.com/docs#/AIStudio_Project_Notebook/a38e5576) for more detailed instructions. "
   ]
  }
 ],
 "metadata": {
  "kernelspec": {
   "display_name": "PaddlePaddle 2.1.0 (Python 3.5)",
   "language": "python",
   "name": "py35-paddle1.2.0"
  },
  "language_info": {
   "codemirror_mode": {
    "name": "ipython",
    "version": 3
   },
   "file_extension": ".py",
   "mimetype": "text/x-python",
   "name": "python",
   "nbconvert_exporter": "python",
   "pygments_lexer": "ipython3",
   "version": "3.7.4"
  }
 },
 "nbformat": 4,
 "nbformat_minor": 1
}
